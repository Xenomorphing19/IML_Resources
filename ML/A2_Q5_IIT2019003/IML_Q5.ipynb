{
  "nbformat": 4,
  "nbformat_minor": 0,
  "metadata": {
    "colab": {
      "name": "IML_Q5.ipynb",
      "provenance": []
    },
    "kernelspec": {
      "name": "python3",
      "display_name": "Python 3"
    },
    "language_info": {
      "name": "python"
    }
  },
  "cells": [
    {
      "cell_type": "code",
      "metadata": {
        "id": "A6fdAIOetPnU"
      },
      "source": [
        "import numpy as np, matplotlib.pyplot as plt"
      ],
      "execution_count": 21,
      "outputs": []
    },
    {
      "cell_type": "markdown",
      "metadata": {
        "id": "dRA051spAHKK"
      },
      "source": [
        "**Collecting Data**\n",
        "The Data regarding number of deaths is collected from [Link](https://ourworldindata.org/coronavirus/country/india)\n",
        "\n",
        "Let the Best fitting Linear Equation be W0 + W1(x) = y"
      ]
    },
    {
      "cell_type": "code",
      "metadata": {
        "id": "cTTY0rUmtfps"
      },
      "source": [
        "X = [1, 2, 3, 4, 5, 6, 7, 8, 9, 10, 11, 12, 13, 14, 15, 16, 17, 18, 19, 20, 21, 22, 23, 24, 25, 26, 27, 28, 29, 30, 31]\n",
        "Y = [3318, 3405, 3502, 3571, 3619, 3679, 3773, 3829, 3879, 3940, 4001, 4021, 4033, 3991, 3991, 4039, 4103, 4150, 4115, 4144, 4188, 4140, 4190, 4073, 4020, 4016, 3937, 3855, 3815, 3625, 3523]\n",
        "m = 22\n",
        "A=0\n",
        "B=0\n",
        "C=0\n",
        "D=0"
      ],
      "execution_count": 15,
      "outputs": []
    },
    {
      "cell_type": "markdown",
      "metadata": {
        "id": "RgeHIhttAo9d"
      },
      "source": [
        "Calculation for the variables W0 & W1 using the data for first 22 days (i.e 1st May,2021 to 22nd May,2021)"
      ]
    },
    {
      "cell_type": "code",
      "metadata": {
        "id": "5IVJ_-FPuWdP"
      },
      "source": [
        "for i in range(0,m):\n",
        "  A = A + X[i]\n",
        "  B = B + Y[i]\n",
        "  C = C + (X[i]*X[i])\n",
        "  D = D + (X[i]*Y[i])"
      ],
      "execution_count": 16,
      "outputs": []
    },
    {
      "cell_type": "code",
      "metadata": {
        "id": "UQD4MenqvIyZ"
      },
      "source": [
        "W0 = (B*C - A*D)/(m*C - A*A)\n",
        "W1 = (A*B - m*D)/(A*A - m*C)"
      ],
      "execution_count": 17,
      "outputs": []
    },
    {
      "cell_type": "markdown",
      "metadata": {
        "id": "yQZDyLZCA9_H"
      },
      "source": [
        "Calculating the squared error for the rest 9 days (i.e 23rd May,2021 to 31st May,2021)"
      ]
    },
    {
      "cell_type": "code",
      "metadata": {
        "colab": {
          "base_uri": "https://localhost:8080/"
        },
        "id": "sOdcxCoyvoFv",
        "outputId": "32e725e4-c780-45ff-827b-49cbdef9b30e"
      },
      "source": [
        "linear_error = 0\n",
        "for i in range(m,31):\n",
        "  linear_error = linear_error + ((W0 + W1*X[i]) - Y[i])**2\n",
        "print(\"error for last 9 days: \",linear_error)"
      ],
      "execution_count": 33,
      "outputs": [
        {
          "output_type": "stream",
          "text": [
            "error for last 9 days:  3791929.4106830023\n"
          ],
          "name": "stdout"
        }
      ]
    },
    {
      "cell_type": "markdown",
      "metadata": {
        "id": "cHowqmjABKfT"
      },
      "source": [
        "Prediction for the given dates (20th May,2021 & 10th June,2021)\n",
        "20th May,2021 corresponds to number -10 and 10th June,2021 corresponds to the number 41 according to our solution."
      ]
    },
    {
      "cell_type": "code",
      "metadata": {
        "colab": {
          "base_uri": "https://localhost:8080/"
        },
        "id": "DJmE224dw9ik",
        "outputId": "70a1a39c-b337-4129-dacd-cbbfcca0763f"
      },
      "source": [
        "print(\"Death Prediction on 20th May,2021: \",(W0 + W1*(-10)))\n",
        "print(\"Death Prediction on 10th June,2021: \",(W0 + W1*(41)))"
      ],
      "execution_count": 28,
      "outputs": [
        {
          "output_type": "stream",
          "text": [
            "Death Prediction on 20th May,2021:  3067.817617165443\n",
            "Death Prediction on 10th June,2021:  5002.0451722190855\n"
          ],
          "name": "stdout"
        }
      ]
    },
    {
      "cell_type": "markdown",
      "metadata": {
        "id": "kaRZRkMmBlqr"
      },
      "source": [
        "Plotting the Linear Fitting equations along with the known Data"
      ]
    },
    {
      "cell_type": "code",
      "metadata": {
        "colab": {
          "base_uri": "https://localhost:8080/",
          "height": 279
        },
        "id": "ByYigBWgxhVw",
        "outputId": "787c82fb-0806-4837-e3e5-c23516ebbac7"
      },
      "source": [
        "plt.plot(X, Y)\n",
        "plt.xlabel('Days')\n",
        "plt.ylabel('No. of Deaths')\n",
        "XX = np.linspace(0,32)\n",
        "YY = W0 + W1*XX\n",
        "plt.plot(XX,YY)\n",
        "plt.show()"
      ],
      "execution_count": 39,
      "outputs": [
        {
          "output_type": "display_data",
          "data": {
            "image/png": "[encoded data removed]",
            "text/plain": [
              "<Figure size 432x288 with 1 Axes>"
            ]
          },
          "metadata": {
            "needs_background": "light"
          }
        }
      ]
    },
    {
      "cell_type": "markdown",
      "metadata": {
        "id": "xkLP9txDByrL"
      },
      "source": [
        "Let the Best fitting Quadratic Equation be WW0 + WW1(x) + WW2(x^2) = y"
      ]
    },
    {
      "cell_type": "code",
      "metadata": {
        "id": "U30_saLr0kUC"
      },
      "source": [
        "E=0\n",
        "F=0\n",
        "G=0\n"
      ],
      "execution_count": 30,
      "outputs": []
    },
    {
      "cell_type": "markdown",
      "metadata": {
        "id": "EqqpEeOhB8rb"
      },
      "source": [
        "Calculation for the variables WW0 & WW1 & WW2 using the data for first 22 days (i.e 1st May,2021 to 22nd May,2021)"
      ]
    },
    {
      "cell_type": "code",
      "metadata": {
        "id": "Ma_yZggz0yZ5"
      },
      "source": [
        "for i in range(0,m):\n",
        "  E = E + (X[i]**3)\n",
        "  F = F + (X[i]**4)\n",
        "  G = G + (Y[i]*X[i]*X[i])"
      ],
      "execution_count": 31,
      "outputs": []
    },
    {
      "cell_type": "code",
      "metadata": {
        "id": "yHRRDpji5dtU"
      },
      "source": [
        "lhs = [[m,A,C],[A,C,E],[C,E,F]]\n",
        "rhs = [B,D,G]\n",
        "W = np.linalg.solve(lhs,rhs)\n",
        "WW0 = W[0]\n",
        "WW1 = W[1]\n",
        "WW2 = W[2]"
      ],
      "execution_count": 32,
      "outputs": []
    },
    {
      "cell_type": "markdown",
      "metadata": {
        "id": "3AlbJjIeCBub"
      },
      "source": [
        "Calculating the squared error for the rest 9 days (i.e 23rd May,2021 to 31st May,2021)"
      ]
    },
    {
      "cell_type": "code",
      "metadata": {
        "colab": {
          "base_uri": "https://localhost:8080/"
        },
        "id": "gzhLTBew83xR",
        "outputId": "5249411e-3826-4338-8521-55e03a9c7cec"
      },
      "source": [
        "quadratic_error = 0\n",
        "for i in range(m,31):\n",
        "  quadratic_error = quadratic_error + ((WW0 + WW1*X[i] + WW2*X[i]*X[i]) - Y[i])**2\n",
        "print(\"error for last 9 days: \",quadratic_error)\n"
      ],
      "execution_count": 34,
      "outputs": [
        {
          "output_type": "stream",
          "text": [
            "error for last 9 days:  339729.55346268334\n"
          ],
          "name": "stdout"
        }
      ]
    },
    {
      "cell_type": "markdown",
      "metadata": {
        "id": "yZmhuviRCE7S"
      },
      "source": [
        "Prediction for the given dates (20th May,2021 & 10th June,2021)\n",
        "20th May,2021 corresponds to number -10 and 10th June,2021 corresponds to the number 41 according to our solution."
      ]
    },
    {
      "cell_type": "code",
      "metadata": {
        "colab": {
          "base_uri": "https://localhost:8080/"
        },
        "id": "piG-0wf19m4L",
        "outputId": "9e4d4f74-99ae-4b5c-9ae9-389a93d004e9"
      },
      "source": [
        "print(\"Death Prediction on 20th May,2021: \",(WW0 + WW1*(-10) + WW2*(-10)*(-10)))\n",
        "print(\"Death Prediction on 10th June,2021: \",(WW0 + WW1*(41) + WW2*(41)*(41)))"
      ],
      "execution_count": 35,
      "outputs": [
        {
          "output_type": "stream",
          "text": [
            "Death Prediction on 20th May,2021:  2180.8372388481234\n",
            "Death Prediction on 10th June,2021:  3257.5103049125\n"
          ],
          "name": "stdout"
        }
      ]
    },
    {
      "cell_type": "markdown",
      "metadata": {
        "id": "bNTn9VuHCHqD"
      },
      "source": [
        "Plotting the Quadratic Fitting equations along with the known Data"
      ]
    },
    {
      "cell_type": "code",
      "metadata": {
        "colab": {
          "base_uri": "https://localhost:8080/",
          "height": 279
        },
        "id": "k_R5TpeP96YA",
        "outputId": "c163aea7-9ef3-49ac-a6cc-4dbd8b2238fd"
      },
      "source": [
        "plt.plot(X, Y)\n",
        "plt.xlabel('Days')\n",
        "plt.ylabel('No. of Deaths')\n",
        "XX1 = np.linspace(0,32)\n",
        "YY1 = WW0 + WW1*XX1 + WW2*XX1*XX1\n",
        "plt.plot(XX1,YY1)\n",
        "plt.show()"
      ],
      "execution_count": 46,
      "outputs": [
        {
          "output_type": "display_data",
          "data": {
            "image/png": "[encoded data removed]",
            "text/plain": [
              "<Figure size 432x288 with 1 Axes>"
            ]
          },
          "metadata": {
            "needs_background": "light"
          }
        }
      ]
    },
    {
      "cell_type": "markdown",
      "metadata": {
        "id": "gk35Ai4ZCObi"
      },
      "source": [
        "Since quadratic_error < Linear_error, so The quadratic best fit gives the more accurate results"
      ]
    }
  ]
}