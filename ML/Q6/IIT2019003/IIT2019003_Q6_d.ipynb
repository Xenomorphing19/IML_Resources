{
 "cells": [
  {
   "cell_type": "code",
   "execution_count": 1,
   "id": "37618ecd",
   "metadata": {},
   "outputs": [],
   "source": [
    "import numpy as np\n",
    "import pandas as pd\n",
    "import math"
   ]
  },
  {
   "cell_type": "code",
   "execution_count": 2,
   "id": "0bc4da6a",
   "metadata": {},
   "outputs": [],
   "source": [
    "def LWR(X, xi, Y, Tau):\n",
    "\tTransposeX = np.transpose(X)\n",
    "\tW = kernel(X, xi, Tau)\n",
    "\tXTransposeW = TransposeX * W\n",
    "\tXTransposeWX = np.matmul(XTransposeW, X)\n",
    "\tInvXTransposeWX = np.linalg.pinv(XTransposeWX)\n",
    "\tInvXTransposeWXXTransposeW = np.matmul(InvXTransposeWX, XTransposeW)\n",
    "\tInvXTransposeWXXTransposeWY = np.matmul(InvXTransposeWXXTransposeW, Y)\n",
    "\tInvXTransposeWXXTransposeWYTranspose = np.transpose(InvXTransposeWXXTransposeWY)\n",
    "\treturn InvXTransposeWXXTransposeWYTranspose.dot(xi)\n"
   ]
  },
  {
   "cell_type": "code",
   "execution_count": 3,
   "id": "e2622e45",
   "metadata": {},
   "outputs": [],
   "source": [
    "def calculate_error(Y, Y_pred):\n",
    "    error = 0\n",
    "    for i in range(len(Y)):\n",
    "        error += abs(Y[i] - Y_pred[i]) / Y[i]\n",
    "    error = error / len(Y)\n",
    "    return error * 100"
   ]
  },
  {
   "cell_type": "code",
   "execution_count": 4,
   "id": "87b82e58",
   "metadata": {},
   "outputs": [],
   "source": [
    "def kernel(X, xi, Tau):\n",
    "    return np.exp(-np.sum((xi - X) ** 2, axis = 1) / (2 * Tau * Tau))"
   ]
  },
  {
   "cell_type": "code",
   "execution_count": 5,
   "id": "1656adfb",
   "metadata": {},
   "outputs": [],
   "source": [
    "input_data = pd.read_csv('Housing Price data set.csv', usecols = [\"price\", \"lotsize\", \"bedrooms\", \"bathrms\"])\n",
    "FloorArea = input_data['lotsize']\n",
    "NoOfBedrooms = input_data['bedrooms']\n",
    "NoOfBathrooms = input_data['bathrms']\n",
    "Y = input_data['price']\n",
    "Y = np.array(Y)\n",
    "Y = Y.reshape(Y.shape[0], 1)"
   ]
  },
  {
   "cell_type": "code",
   "execution_count": 6,
   "id": "f953e4ae",
   "metadata": {},
   "outputs": [
    {
     "name": "stdout",
     "output_type": "stream",
     "text": [
      "Using Locally Weighted Linear Regression for Tau = 5e-05\n",
      "Mean absolute percentage error is : [5.40731789]\n",
      "\n"
     ]
    }
   ],
   "source": [
    "# Performing feature scanning on FloorArea\n",
    "FloorArea_Mean = np.mean(FloorArea)\n",
    "FloorArea_Max = max(FloorArea)\n",
    "FloorArea_Min = min(FloorArea)\n",
    "FloorArea_Scaled = []\n",
    "for i in FloorArea:\n",
    "\tFloorArea_Scaled.append((i - FloorArea_Mean) / (FloorArea_Max - FloorArea_Min))\n",
    "\n",
    "X = []\n",
    "for i in range(len(FloorArea)):\n",
    "\tX.append([1, FloorArea_Scaled[i], NoOfBedrooms[i], NoOfBathrooms[i]])\n",
    "X = np.array(X)\n",
    "\n",
    "Tau = 0.00005\n",
    "print(\"Using Locally Weighted Linear Regression for Tau = \" + str(Tau))\n",
    "pred = []\n",
    "for i in range(X.shape[0]):\n",
    "\ty_pred = LWR(X, X[i], Y, Tau)\n",
    "\tpred.append(y_pred)\n",
    "print(\"Mean absolute percentage error is : \" + str(calculate_error(Y,pred)))\n",
    "print()\n",
    "\n",
    "Price = input_data['price']\n"
   ]
  },
  {
   "cell_type": "code",
   "execution_count": 7,
   "id": "e8bd06a5",
   "metadata": {},
   "outputs": [],
   "source": [
    "#segmenting the features\n",
    "FeaturesTrain = []\n",
    "for i in range(383):\n",
    "\tFeaturesTrain.append([1, FloorArea_Scaled[i], NoOfBedrooms[i], NoOfBathrooms[i]])\n",
    "PriceTrain = Price[:383]\n",
    "PriceTest = []\n",
    "FeaturesTest = []\n",
    "for i in range(383, len(Price)):\n",
    "\tFeaturesTest.append([1, FloorArea_Scaled[i], NoOfBedrooms[i], NoOfBathrooms[i]])\n",
    "\tPriceTest.append(Price[i])\n",
    "m = len(FeaturesTrain)\n"
   ]
  },
  {
   "cell_type": "code",
   "execution_count": 8,
   "id": "d4ca41d2",
   "metadata": {},
   "outputs": [],
   "source": [
    "# Function to calculate Slope to find coefficients\n",
    "def Slope(Coeff, FeaturesTrain, PriceTrain, ind):\n",
    "\tError = 0\n",
    "\tfor i in range(len(FeaturesTrain)):\n",
    "\t\titr = 0\n",
    "\t\tfor j in range(len(Coeff)):\n",
    "\t\t\titr = itr + Coeff[j] * FeaturesTrain[i][j]\n",
    "\t\tError += (itr - PriceTrain[i]) * FeaturesTrain[i][ind]\n",
    "\treturn Error\n"
   ]
  },
  {
   "cell_type": "code",
   "execution_count": 9,
   "id": "0e812eda",
   "metadata": {},
   "outputs": [
    {
     "name": "stdout",
     "output_type": "stream",
     "text": [
      "Using scaled batch gradient with regularisation\n",
      "Initial coefficients: \n",
      "[0, 0, 0, 0]\n",
      "Final coefficients are:\n",
      "[5037.585668619078, 11147.667574879839, 10378.580439168689, 22647.298983883848]\n"
     ]
    }
   ],
   "source": [
    "# Using scaled batch gradient with regularisation\n",
    "print(\"Using scaled batch gradient with regularisation\")\n",
    "LearningRate = 0.001\n",
    "LambdaParameter = -49\n",
    "Coeff = [0, 0, 0, 0]\n",
    "print(\"Initial coefficients: \")\n",
    "print(Coeff)\n",
    "for epochs in range(5000):\n",
    "\tTempCoeff = Coeff.copy()\n",
    "\tfor j in range(len(Coeff)):\n",
    "\t\tif (j == 0):\n",
    "\t\t\tTempCoeff[j] = TempCoeff[j] - ((LearningRate / m) * (Slope(Coeff, FeaturesTrain, PriceTrain, j)))\t\n",
    "\t\telse:\n",
    "\t\t\tTempCoeff[j] = (1 - LearningRate * LambdaParameter / m) * TempCoeff[j] - ((LearningRate / m) * (Slope(Coeff, FeaturesTrain, PriceTrain, j)))\n",
    "\tCoeff = TempCoeff.copy()\n",
    "print(\"Final coefficients are:\")\n",
    "print(Coeff)"
   ]
  },
  {
   "cell_type": "code",
   "execution_count": 10,
   "id": "507384b1",
   "metadata": {},
   "outputs": [
    {
     "name": "stdout",
     "output_type": "stream",
     "text": [
      "Mean absolute percentage error is : 19.92701396456417\n",
      "\n"
     ]
    }
   ],
   "source": [
    "# Finding Mean absolute percentage error.\n",
    "Error = 0\n",
    "for i in range(len(FeaturesTest)):\n",
    "\tpredicted = 0\n",
    "\tfor j in range(len(Coeff)):\n",
    "\t  \tpredicted = predicted + Coeff[j] * FeaturesTest[i][j]\n",
    "\tError += abs(predicted - PriceTest[i]) / PriceTest[i]\n",
    "Error = (Error / len(FeaturesTest)) * 100\n",
    "print(\"Mean absolute percentage error is : \" + str(Error))\n",
    "print()\n"
   ]
  },
  {
   "cell_type": "code",
   "execution_count": 11,
   "id": "0a6c861a",
   "metadata": {},
   "outputs": [],
   "source": [
    "def SlopeStoch(Coeff,FeaturesTrain,ActualVal,ind):\n",
    "\titr = 0\n",
    "\tfor j in range(len(Coeff)):\n",
    "\t\titr = itr + Coeff[j]*FeaturesTrain[j]\n",
    "\treturn (itr - ActualVal) * FeaturesTrain[ind]\n"
   ]
  },
  {
   "cell_type": "code",
   "execution_count": 12,
   "id": "930af0dc",
   "metadata": {},
   "outputs": [
    {
     "name": "stdout",
     "output_type": "stream",
     "text": [
      "Using Stochastic gradient with regularisation\n",
      "Initial coefficients: \n",
      "[0, 0, 0, 0]\n",
      "Final coefficients are:\n",
      "[68977.37183533033, 153.6672368058788, 622.1158811423422, 207.34938918615728]\n"
     ]
    }
   ],
   "source": [
    "# Using Scaled Stochastic gradient with regularisation.\n",
    "print(\"Using Stochastic gradient with regularisation\")\n",
    "\n",
    "# different values of tau were tried to get this as the best among other values\n",
    "LearningRate = 0.004\n",
    "LambdaParameter = 142000\n",
    "Coeff = [0, 0, 0, 0]\n",
    "print(\"Initial coefficients: \")\n",
    "print(Coeff)\n",
    "\n",
    "for iter in range(10):\n",
    "\tfor i in range(len(PriceTrain)):\n",
    "\t\tTempCoeff = Coeff.copy()\n",
    "\t\tfor j in range(4):\n",
    "\t\t\tif j == 0:\n",
    "\t\t\t\tTempCoeff[j] = TempCoeff[j] - (LearningRate * (SlopeStoch(Coeff, FeaturesTrain[i], PriceTrain[i], j)))\n",
    "\t\t\telse:\n",
    "\t\t\t\tTempCoeff[j] = (1 - LearningRate * LambdaParameter / m) * TempCoeff[j] - (LearningRate * (SlopeStoch(Coeff, FeaturesTrain[i], PriceTrain[i], j)))\n",
    "\t\tCoeff = TempCoeff.copy()\n",
    "\n",
    "print(\"Final coefficients are:\")\n",
    "print(Coeff)"
   ]
  },
  {
   "cell_type": "code",
   "execution_count": 13,
   "id": "f15595be",
   "metadata": {},
   "outputs": [
    {
     "name": "stdout",
     "output_type": "stream",
     "text": [
      "Mean absolute percentage error is : 22.392602067246287\n",
      "\n"
     ]
    }
   ],
   "source": [
    "# Finding Mean absolute percentage error.\n",
    "Error = 0\n",
    "for i in range(len(FeaturesTest)):\n",
    "\tpredicted = 0\n",
    "\tfor j in range(len(Coeff)):\n",
    "\t  \tpredicted = predicted + Coeff[j] * FeaturesTest[i][j]\n",
    "\tError += abs(predicted - PriceTest[i]) / PriceTest[i]\n",
    "Error = (Error / len(FeaturesTest)) * 100\n",
    "print(\"Mean absolute percentage error is : \" + str(Error))\n",
    "print()\n"
   ]
  },
  {
   "cell_type": "code",
   "execution_count": 14,
   "id": "6819c7f3",
   "metadata": {},
   "outputs": [
    {
     "name": "stdout",
     "output_type": "stream",
     "text": [
      "Using Scaled Minibatch gradient with regularisation for batch size = 20\n",
      "Final coefficients are:\n",
      "[888.9201243627547, 5168.211726125255, 17701.360814619125, 15202.387873756412]\n"
     ]
    }
   ],
   "source": [
    "# Using Scaled Minibatch gradient with regularisation for batch size = 20\n",
    "print(\"Using Scaled Minibatch gradient with regularisation for batch size = 20\")\n",
    "\n",
    "BatchSize = 20;\n",
    "LearningRate = 0.002\n",
    "LambdaParameter = -372\n",
    "Coeff = [0, 0, 0, 0]\n",
    "NoOfBatches = math.ceil(len(PriceTrain) / BatchSize)\n",
    "equallyDiv = False\n",
    "if (len(PriceTrain) % BatchSize == 0):\n",
    "\tequallyDiv = True;\n",
    "\n",
    "for epoch in range(30):\n",
    "\tfor batch in range(NoOfBatches):\n",
    "\t\tSummation = [0, 0, 0, 0]\n",
    "\t\tfor j in range(len(Coeff)):\n",
    "\t\t\tfor i in range(BatchSize):\n",
    "\t\t\t\tif (batch * BatchSize + i == len(FeaturesTrain)):\n",
    "\t\t\t\t\tbreak\n",
    "\t\t\t\tPredictedValue = 0.0\n",
    "\t\t\t\tfor wj in range(len(Coeff)):\n",
    "\t\t\t\t\tPredictedValue += Coeff[wj] * FeaturesTrain[batch * BatchSize + i][wj]\n",
    "\t\t\t\tPredictedValue -= PriceTrain[batch * BatchSize + i]\n",
    "\t\t\t\tPredictedValue *= FeaturesTrain[batch * BatchSize + i][j]\n",
    "\t\t\t\tSummation[j] += PredictedValue;\n",
    "\n",
    "\t\tif (not equallyDiv and batch == NoOfBatches - 1):\n",
    "\t\t\tfor j in range(len(Summation)):\n",
    "\t\t\t\tif j == 0:\n",
    "\t\t\t\t\tCoeff[j] -= (Summation[j] / (len(PriceTrain) % BatchSize)) * LearningRate\n",
    "\t\t\t\telse:\n",
    "\t\t\t\t\tCoeff[j] = (1 - LearningRate * LambdaParameter / m) * Coeff[j] - (Summation[j] / (len(PriceTrain) % BatchSize)) * LearningRate\n",
    "\t\telse:\n",
    "\t\t\tfor j in range(len(Summation)):\n",
    "\t\t\t\tif j == 0:\n",
    "\t\t\t\t\tCoeff[j] -= (Summation[j] / BatchSize) * LearningRate\n",
    "\t\t\t\telse:\n",
    "\t\t\t\t\tCoeff[j] = (1 - LearningRate * LambdaParameter / m) * Coeff[j] - (Summation[j] / BatchSize) * LearningRate\n",
    "print(\"Final coefficients are:\")\n",
    "print(Coeff)\n"
   ]
  },
  {
   "cell_type": "code",
   "execution_count": 15,
   "id": "79593068",
   "metadata": {},
   "outputs": [
    {
     "name": "stdout",
     "output_type": "stream",
     "text": [
      "Mean absolute percentage error is : 19.550681895981263\n",
      "\n"
     ]
    }
   ],
   "source": [
    "# Finding Mean absolute percentage error.\n",
    "Error = 0\n",
    "for i in range(len(FeaturesTest)):\n",
    "\tpredicted = 0\n",
    "\tfor j in range(len(Coeff)):\n",
    "\t  \tpredicted = predicted + Coeff[j] * FeaturesTest[i][j]\n",
    "\tError += abs(predicted - PriceTest[i]) / PriceTest[i]\n",
    "Error = (Error / len(FeaturesTest)) * 100\n",
    "print(\"Mean absolute percentage error is : \" + str(Error))\n",
    "print()"
   ]
  },
  {
   "cell_type": "code",
   "execution_count": null,
   "id": "531e602c",
   "metadata": {},
   "outputs": [],
   "source": []
  }
 ],
 "metadata": {
  "kernelspec": {
   "display_name": "Python 3",
   "language": "python",
   "name": "python3"
  },
  "language_info": {
   "codemirror_mode": {
    "name": "ipython",
    "version": 3
   },
   "file_extension": ".py",
   "mimetype": "text/x-python",
   "name": "python",
   "nbconvert_exporter": "python",
   "pygments_lexer": "ipython3",
   "version": "3.6.13"
  }
 },
 "nbformat": 4,
 "nbformat_minor": 5
}
